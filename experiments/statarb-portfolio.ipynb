{
 "cells": [
  {
   "cell_type": "code",
   "execution_count": 1,
   "metadata": {},
   "outputs": [
    {
     "ename": "FileNotFoundError",
     "evalue": "[Errno 2] No such file or directory: '../data/PERMNO_to_COMNAM.csv'",
     "output_type": "error",
     "traceback": [
      "\u001b[0;31m---------------------------------------------------------------------------\u001b[0m",
      "\u001b[0;31mFileNotFoundError\u001b[0m                         Traceback (most recent call last)",
      "Cell \u001b[0;32mIn[1], line 4\u001b[0m\n\u001b[1;32m      1\u001b[0m \u001b[38;5;28;01mimport\u001b[39;00m \u001b[38;5;21;01myfinance\u001b[39;00m \u001b[38;5;28;01mas\u001b[39;00m \u001b[38;5;21;01myf\u001b[39;00m\n\u001b[1;32m      3\u001b[0m \u001b[38;5;66;03m#from cvx.stat_arb.ccp import *\u001b[39;00m\n\u001b[0;32m----> 4\u001b[0m \u001b[38;5;28;01mfrom\u001b[39;00m \u001b[38;5;21;01mbacktest\u001b[39;00m \u001b[38;5;28;01mimport\u001b[39;00m run_portfolio_backtest\n\u001b[1;32m      5\u001b[0m \u001b[38;5;28;01mfrom\u001b[39;00m \u001b[38;5;21;01mutils\u001b[39;00m \u001b[38;5;28;01mimport\u001b[39;00m ewma, compute_drawdowns, compute_trading_costs, plot_stat_arb\n\u001b[1;32m      6\u001b[0m \u001b[38;5;28;01mimport\u001b[39;00m \u001b[38;5;21;01mseaborn\u001b[39;00m \u001b[38;5;28;01mas\u001b[39;00m \u001b[38;5;21;01msns\u001b[39;00m\n",
      "File \u001b[0;32m~/projects/cvxstatarb/experiments/backtest.py:6\u001b[0m\n\u001b[1;32m      4\u001b[0m \u001b[38;5;28;01mimport\u001b[39;00m \u001b[38;5;21;01mpandas\u001b[39;00m \u001b[38;5;28;01mas\u001b[39;00m \u001b[38;5;21;01mpd\u001b[39;00m\n\u001b[1;32m      5\u001b[0m \u001b[38;5;28;01mfrom\u001b[39;00m \u001b[38;5;21;01mtqdm\u001b[39;00m \u001b[38;5;28;01mimport\u001b[39;00m tqdm\n\u001b[0;32m----> 6\u001b[0m \u001b[38;5;28;01mfrom\u001b[39;00m \u001b[38;5;21;01mutils\u001b[39;00m \u001b[38;5;28;01mimport\u001b[39;00m compute_trading_costs, construct_stat_arbs\n\u001b[1;32m      8\u001b[0m \u001b[38;5;28;01mfrom\u001b[39;00m \u001b[38;5;21;01mcvx\u001b[39;00m\u001b[38;5;21;01m.\u001b[39;00m\u001b[38;5;21;01msimulator\u001b[39;00m\u001b[38;5;21;01m.\u001b[39;00m\u001b[38;5;21;01mbuilder\u001b[39;00m \u001b[38;5;28;01mimport\u001b[39;00m Builder\n\u001b[1;32m      9\u001b[0m \u001b[38;5;28;01mfrom\u001b[39;00m \u001b[38;5;21;01mcvx\u001b[39;00m\u001b[38;5;21;01m.\u001b[39;00m\u001b[38;5;21;01msimulator\u001b[39;00m\u001b[38;5;21;01m.\u001b[39;00m\u001b[38;5;21;01mportfolio\u001b[39;00m \u001b[38;5;28;01mimport\u001b[39;00m Portfolio\n",
      "File \u001b[0;32m~/projects/cvxstatarb/experiments/utils.py:12\u001b[0m\n\u001b[1;32m      9\u001b[0m \u001b[38;5;28;01mfrom\u001b[39;00m \u001b[38;5;21;01mcvx\u001b[39;00m\u001b[38;5;21;01m.\u001b[39;00m\u001b[38;5;21;01msimulator\u001b[39;00m\u001b[38;5;21;01m.\u001b[39;00m\u001b[38;5;21;01mportfolio\u001b[39;00m \u001b[38;5;28;01mimport\u001b[39;00m Portfolio\n\u001b[1;32m     10\u001b[0m \u001b[38;5;28;01mfrom\u001b[39;00m \u001b[38;5;21;01mcvx\u001b[39;00m\u001b[38;5;21;01m.\u001b[39;00m\u001b[38;5;21;01mstat_arb\u001b[39;00m\u001b[38;5;21;01m.\u001b[39;00m\u001b[38;5;21;01mccp\u001b[39;00m \u001b[38;5;28;01mimport\u001b[39;00m construct_stat_arb\n\u001b[0;32m---> 12\u001b[0m PERMNO_to_COMNAM \u001b[38;5;241m=\u001b[39m \u001b[43mpd\u001b[49m\u001b[38;5;241;43m.\u001b[39;49m\u001b[43mread_csv\u001b[49m\u001b[43m(\u001b[49m\u001b[38;5;124;43m\"\u001b[39;49m\u001b[38;5;124;43m../data/PERMNO_to_COMNAM.csv\u001b[39;49m\u001b[38;5;124;43m\"\u001b[39;49m\u001b[43m,\u001b[49m\u001b[43m \u001b[49m\u001b[43mindex_col\u001b[49m\u001b[38;5;241;43m=\u001b[39;49m\u001b[38;5;241;43m0\u001b[39;49m\u001b[43m)\u001b[49m\n\u001b[1;32m     13\u001b[0m \u001b[38;5;28;01mwith\u001b[39;00m \u001b[38;5;28mopen\u001b[39m(\u001b[38;5;124m\"\u001b[39m\u001b[38;5;124m../data/PERMNO_TO_SECTOR.json\u001b[39m\u001b[38;5;124m\"\u001b[39m) \u001b[38;5;28;01mas\u001b[39;00m f:\n\u001b[1;32m     14\u001b[0m     PERMNO_TO_SECTOR \u001b[38;5;241m=\u001b[39m json\u001b[38;5;241m.\u001b[39mload(f)\n",
      "File \u001b[0;32m~/projects/cvxstatarb/.venv/lib/python3.12/site-packages/pandas/io/parsers/readers.py:1026\u001b[0m, in \u001b[0;36mread_csv\u001b[0;34m(filepath_or_buffer, sep, delimiter, header, names, index_col, usecols, dtype, engine, converters, true_values, false_values, skipinitialspace, skiprows, skipfooter, nrows, na_values, keep_default_na, na_filter, verbose, skip_blank_lines, parse_dates, infer_datetime_format, keep_date_col, date_parser, date_format, dayfirst, cache_dates, iterator, chunksize, compression, thousands, decimal, lineterminator, quotechar, quoting, doublequote, escapechar, comment, encoding, encoding_errors, dialect, on_bad_lines, delim_whitespace, low_memory, memory_map, float_precision, storage_options, dtype_backend)\u001b[0m\n\u001b[1;32m   1013\u001b[0m kwds_defaults \u001b[38;5;241m=\u001b[39m _refine_defaults_read(\n\u001b[1;32m   1014\u001b[0m     dialect,\n\u001b[1;32m   1015\u001b[0m     delimiter,\n\u001b[0;32m   (...)\u001b[0m\n\u001b[1;32m   1022\u001b[0m     dtype_backend\u001b[38;5;241m=\u001b[39mdtype_backend,\n\u001b[1;32m   1023\u001b[0m )\n\u001b[1;32m   1024\u001b[0m kwds\u001b[38;5;241m.\u001b[39mupdate(kwds_defaults)\n\u001b[0;32m-> 1026\u001b[0m \u001b[38;5;28;01mreturn\u001b[39;00m \u001b[43m_read\u001b[49m\u001b[43m(\u001b[49m\u001b[43mfilepath_or_buffer\u001b[49m\u001b[43m,\u001b[49m\u001b[43m \u001b[49m\u001b[43mkwds\u001b[49m\u001b[43m)\u001b[49m\n",
      "File \u001b[0;32m~/projects/cvxstatarb/.venv/lib/python3.12/site-packages/pandas/io/parsers/readers.py:620\u001b[0m, in \u001b[0;36m_read\u001b[0;34m(filepath_or_buffer, kwds)\u001b[0m\n\u001b[1;32m    617\u001b[0m _validate_names(kwds\u001b[38;5;241m.\u001b[39mget(\u001b[38;5;124m\"\u001b[39m\u001b[38;5;124mnames\u001b[39m\u001b[38;5;124m\"\u001b[39m, \u001b[38;5;28;01mNone\u001b[39;00m))\n\u001b[1;32m    619\u001b[0m \u001b[38;5;66;03m# Create the parser.\u001b[39;00m\n\u001b[0;32m--> 620\u001b[0m parser \u001b[38;5;241m=\u001b[39m \u001b[43mTextFileReader\u001b[49m\u001b[43m(\u001b[49m\u001b[43mfilepath_or_buffer\u001b[49m\u001b[43m,\u001b[49m\u001b[43m \u001b[49m\u001b[38;5;241;43m*\u001b[39;49m\u001b[38;5;241;43m*\u001b[39;49m\u001b[43mkwds\u001b[49m\u001b[43m)\u001b[49m\n\u001b[1;32m    622\u001b[0m \u001b[38;5;28;01mif\u001b[39;00m chunksize \u001b[38;5;129;01mor\u001b[39;00m iterator:\n\u001b[1;32m    623\u001b[0m     \u001b[38;5;28;01mreturn\u001b[39;00m parser\n",
      "File \u001b[0;32m~/projects/cvxstatarb/.venv/lib/python3.12/site-packages/pandas/io/parsers/readers.py:1620\u001b[0m, in \u001b[0;36mTextFileReader.__init__\u001b[0;34m(self, f, engine, **kwds)\u001b[0m\n\u001b[1;32m   1617\u001b[0m     \u001b[38;5;28mself\u001b[39m\u001b[38;5;241m.\u001b[39moptions[\u001b[38;5;124m\"\u001b[39m\u001b[38;5;124mhas_index_names\u001b[39m\u001b[38;5;124m\"\u001b[39m] \u001b[38;5;241m=\u001b[39m kwds[\u001b[38;5;124m\"\u001b[39m\u001b[38;5;124mhas_index_names\u001b[39m\u001b[38;5;124m\"\u001b[39m]\n\u001b[1;32m   1619\u001b[0m \u001b[38;5;28mself\u001b[39m\u001b[38;5;241m.\u001b[39mhandles: IOHandles \u001b[38;5;241m|\u001b[39m \u001b[38;5;28;01mNone\u001b[39;00m \u001b[38;5;241m=\u001b[39m \u001b[38;5;28;01mNone\u001b[39;00m\n\u001b[0;32m-> 1620\u001b[0m \u001b[38;5;28mself\u001b[39m\u001b[38;5;241m.\u001b[39m_engine \u001b[38;5;241m=\u001b[39m \u001b[38;5;28;43mself\u001b[39;49m\u001b[38;5;241;43m.\u001b[39;49m\u001b[43m_make_engine\u001b[49m\u001b[43m(\u001b[49m\u001b[43mf\u001b[49m\u001b[43m,\u001b[49m\u001b[43m \u001b[49m\u001b[38;5;28;43mself\u001b[39;49m\u001b[38;5;241;43m.\u001b[39;49m\u001b[43mengine\u001b[49m\u001b[43m)\u001b[49m\n",
      "File \u001b[0;32m~/projects/cvxstatarb/.venv/lib/python3.12/site-packages/pandas/io/parsers/readers.py:1880\u001b[0m, in \u001b[0;36mTextFileReader._make_engine\u001b[0;34m(self, f, engine)\u001b[0m\n\u001b[1;32m   1878\u001b[0m     \u001b[38;5;28;01mif\u001b[39;00m \u001b[38;5;124m\"\u001b[39m\u001b[38;5;124mb\u001b[39m\u001b[38;5;124m\"\u001b[39m \u001b[38;5;129;01mnot\u001b[39;00m \u001b[38;5;129;01min\u001b[39;00m mode:\n\u001b[1;32m   1879\u001b[0m         mode \u001b[38;5;241m+\u001b[39m\u001b[38;5;241m=\u001b[39m \u001b[38;5;124m\"\u001b[39m\u001b[38;5;124mb\u001b[39m\u001b[38;5;124m\"\u001b[39m\n\u001b[0;32m-> 1880\u001b[0m \u001b[38;5;28mself\u001b[39m\u001b[38;5;241m.\u001b[39mhandles \u001b[38;5;241m=\u001b[39m \u001b[43mget_handle\u001b[49m\u001b[43m(\u001b[49m\n\u001b[1;32m   1881\u001b[0m \u001b[43m    \u001b[49m\u001b[43mf\u001b[49m\u001b[43m,\u001b[49m\n\u001b[1;32m   1882\u001b[0m \u001b[43m    \u001b[49m\u001b[43mmode\u001b[49m\u001b[43m,\u001b[49m\n\u001b[1;32m   1883\u001b[0m \u001b[43m    \u001b[49m\u001b[43mencoding\u001b[49m\u001b[38;5;241;43m=\u001b[39;49m\u001b[38;5;28;43mself\u001b[39;49m\u001b[38;5;241;43m.\u001b[39;49m\u001b[43moptions\u001b[49m\u001b[38;5;241;43m.\u001b[39;49m\u001b[43mget\u001b[49m\u001b[43m(\u001b[49m\u001b[38;5;124;43m\"\u001b[39;49m\u001b[38;5;124;43mencoding\u001b[39;49m\u001b[38;5;124;43m\"\u001b[39;49m\u001b[43m,\u001b[49m\u001b[43m \u001b[49m\u001b[38;5;28;43;01mNone\u001b[39;49;00m\u001b[43m)\u001b[49m\u001b[43m,\u001b[49m\n\u001b[1;32m   1884\u001b[0m \u001b[43m    \u001b[49m\u001b[43mcompression\u001b[49m\u001b[38;5;241;43m=\u001b[39;49m\u001b[38;5;28;43mself\u001b[39;49m\u001b[38;5;241;43m.\u001b[39;49m\u001b[43moptions\u001b[49m\u001b[38;5;241;43m.\u001b[39;49m\u001b[43mget\u001b[49m\u001b[43m(\u001b[49m\u001b[38;5;124;43m\"\u001b[39;49m\u001b[38;5;124;43mcompression\u001b[39;49m\u001b[38;5;124;43m\"\u001b[39;49m\u001b[43m,\u001b[49m\u001b[43m \u001b[49m\u001b[38;5;28;43;01mNone\u001b[39;49;00m\u001b[43m)\u001b[49m\u001b[43m,\u001b[49m\n\u001b[1;32m   1885\u001b[0m \u001b[43m    \u001b[49m\u001b[43mmemory_map\u001b[49m\u001b[38;5;241;43m=\u001b[39;49m\u001b[38;5;28;43mself\u001b[39;49m\u001b[38;5;241;43m.\u001b[39;49m\u001b[43moptions\u001b[49m\u001b[38;5;241;43m.\u001b[39;49m\u001b[43mget\u001b[49m\u001b[43m(\u001b[49m\u001b[38;5;124;43m\"\u001b[39;49m\u001b[38;5;124;43mmemory_map\u001b[39;49m\u001b[38;5;124;43m\"\u001b[39;49m\u001b[43m,\u001b[49m\u001b[43m \u001b[49m\u001b[38;5;28;43;01mFalse\u001b[39;49;00m\u001b[43m)\u001b[49m\u001b[43m,\u001b[49m\n\u001b[1;32m   1886\u001b[0m \u001b[43m    \u001b[49m\u001b[43mis_text\u001b[49m\u001b[38;5;241;43m=\u001b[39;49m\u001b[43mis_text\u001b[49m\u001b[43m,\u001b[49m\n\u001b[1;32m   1887\u001b[0m \u001b[43m    \u001b[49m\u001b[43merrors\u001b[49m\u001b[38;5;241;43m=\u001b[39;49m\u001b[38;5;28;43mself\u001b[39;49m\u001b[38;5;241;43m.\u001b[39;49m\u001b[43moptions\u001b[49m\u001b[38;5;241;43m.\u001b[39;49m\u001b[43mget\u001b[49m\u001b[43m(\u001b[49m\u001b[38;5;124;43m\"\u001b[39;49m\u001b[38;5;124;43mencoding_errors\u001b[39;49m\u001b[38;5;124;43m\"\u001b[39;49m\u001b[43m,\u001b[49m\u001b[43m \u001b[49m\u001b[38;5;124;43m\"\u001b[39;49m\u001b[38;5;124;43mstrict\u001b[39;49m\u001b[38;5;124;43m\"\u001b[39;49m\u001b[43m)\u001b[49m\u001b[43m,\u001b[49m\n\u001b[1;32m   1888\u001b[0m \u001b[43m    \u001b[49m\u001b[43mstorage_options\u001b[49m\u001b[38;5;241;43m=\u001b[39;49m\u001b[38;5;28;43mself\u001b[39;49m\u001b[38;5;241;43m.\u001b[39;49m\u001b[43moptions\u001b[49m\u001b[38;5;241;43m.\u001b[39;49m\u001b[43mget\u001b[49m\u001b[43m(\u001b[49m\u001b[38;5;124;43m\"\u001b[39;49m\u001b[38;5;124;43mstorage_options\u001b[39;49m\u001b[38;5;124;43m\"\u001b[39;49m\u001b[43m,\u001b[49m\u001b[43m \u001b[49m\u001b[38;5;28;43;01mNone\u001b[39;49;00m\u001b[43m)\u001b[49m\u001b[43m,\u001b[49m\n\u001b[1;32m   1889\u001b[0m \u001b[43m\u001b[49m\u001b[43m)\u001b[49m\n\u001b[1;32m   1890\u001b[0m \u001b[38;5;28;01massert\u001b[39;00m \u001b[38;5;28mself\u001b[39m\u001b[38;5;241m.\u001b[39mhandles \u001b[38;5;129;01mis\u001b[39;00m \u001b[38;5;129;01mnot\u001b[39;00m \u001b[38;5;28;01mNone\u001b[39;00m\n\u001b[1;32m   1891\u001b[0m f \u001b[38;5;241m=\u001b[39m \u001b[38;5;28mself\u001b[39m\u001b[38;5;241m.\u001b[39mhandles\u001b[38;5;241m.\u001b[39mhandle\n",
      "File \u001b[0;32m~/projects/cvxstatarb/.venv/lib/python3.12/site-packages/pandas/io/common.py:873\u001b[0m, in \u001b[0;36mget_handle\u001b[0;34m(path_or_buf, mode, encoding, compression, memory_map, is_text, errors, storage_options)\u001b[0m\n\u001b[1;32m    868\u001b[0m \u001b[38;5;28;01melif\u001b[39;00m \u001b[38;5;28misinstance\u001b[39m(handle, \u001b[38;5;28mstr\u001b[39m):\n\u001b[1;32m    869\u001b[0m     \u001b[38;5;66;03m# Check whether the filename is to be opened in binary mode.\u001b[39;00m\n\u001b[1;32m    870\u001b[0m     \u001b[38;5;66;03m# Binary mode does not support 'encoding' and 'newline'.\u001b[39;00m\n\u001b[1;32m    871\u001b[0m     \u001b[38;5;28;01mif\u001b[39;00m ioargs\u001b[38;5;241m.\u001b[39mencoding \u001b[38;5;129;01mand\u001b[39;00m \u001b[38;5;124m\"\u001b[39m\u001b[38;5;124mb\u001b[39m\u001b[38;5;124m\"\u001b[39m \u001b[38;5;129;01mnot\u001b[39;00m \u001b[38;5;129;01min\u001b[39;00m ioargs\u001b[38;5;241m.\u001b[39mmode:\n\u001b[1;32m    872\u001b[0m         \u001b[38;5;66;03m# Encoding\u001b[39;00m\n\u001b[0;32m--> 873\u001b[0m         handle \u001b[38;5;241m=\u001b[39m \u001b[38;5;28;43mopen\u001b[39;49m\u001b[43m(\u001b[49m\n\u001b[1;32m    874\u001b[0m \u001b[43m            \u001b[49m\u001b[43mhandle\u001b[49m\u001b[43m,\u001b[49m\n\u001b[1;32m    875\u001b[0m \u001b[43m            \u001b[49m\u001b[43mioargs\u001b[49m\u001b[38;5;241;43m.\u001b[39;49m\u001b[43mmode\u001b[49m\u001b[43m,\u001b[49m\n\u001b[1;32m    876\u001b[0m \u001b[43m            \u001b[49m\u001b[43mencoding\u001b[49m\u001b[38;5;241;43m=\u001b[39;49m\u001b[43mioargs\u001b[49m\u001b[38;5;241;43m.\u001b[39;49m\u001b[43mencoding\u001b[49m\u001b[43m,\u001b[49m\n\u001b[1;32m    877\u001b[0m \u001b[43m            \u001b[49m\u001b[43merrors\u001b[49m\u001b[38;5;241;43m=\u001b[39;49m\u001b[43merrors\u001b[49m\u001b[43m,\u001b[49m\n\u001b[1;32m    878\u001b[0m \u001b[43m            \u001b[49m\u001b[43mnewline\u001b[49m\u001b[38;5;241;43m=\u001b[39;49m\u001b[38;5;124;43m\"\u001b[39;49m\u001b[38;5;124;43m\"\u001b[39;49m\u001b[43m,\u001b[49m\n\u001b[1;32m    879\u001b[0m \u001b[43m        \u001b[49m\u001b[43m)\u001b[49m\n\u001b[1;32m    880\u001b[0m     \u001b[38;5;28;01melse\u001b[39;00m:\n\u001b[1;32m    881\u001b[0m         \u001b[38;5;66;03m# Binary mode\u001b[39;00m\n\u001b[1;32m    882\u001b[0m         handle \u001b[38;5;241m=\u001b[39m \u001b[38;5;28mopen\u001b[39m(handle, ioargs\u001b[38;5;241m.\u001b[39mmode)\n",
      "\u001b[0;31mFileNotFoundError\u001b[0m: [Errno 2] No such file or directory: '../data/PERMNO_to_COMNAM.csv'"
     ]
    }
   ],
   "source": [
    "import yfinance as yf\n",
    "\n",
    "#from cvx.stat_arb.ccp import *\n",
    "from backtest import run_portfolio_backtest\n",
    "from utils import ewma, compute_drawdowns, compute_trading_costs\n",
    "import seaborn as sns\n",
    "from cvx.covariance.ewma import iterated_ewma\n",
    "import matplotlib.pyplot as plt\n",
    "from matplotlib.ticker import ScalarFormatter, MaxNLocator, FuncFormatter\n",
    "\n",
    "import pandas as pd\n",
    "import numpy as np\n",
    "\n",
    "sns.set()\n",
    "sns.set(font_scale=1.5)\n",
    "\n",
    "%load_ext autoreload\n",
    "%autoreload 2"
   ]
  },
  {
   "cell_type": "code",
   "execution_count": null,
   "metadata": {},
   "outputs": [],
   "source": [
    "prices_full = pd.read_csv(\"../data/stock_prices.csv\", index_col=0, parse_dates=True)\n",
    "market_cap = pd.read_csv(\"../data/market_cap.csv\", index_col=0, parse_dates=True).replace(0, np.nan).ffill(limit=1)\n",
    "\n",
    "spreads = pd.read_csv(\"../data/spreads_stocks.csv\", index_col=0, parse_dates=True)\n",
    "\n",
    "# handle missing spread data (has no impact on result, but makes backtest easier\n",
    "# to implement)\n",
    "rolling_spreads = spreads.rolling(5).mean().ffill().fillna(10 * (0.01**2)).abs()"
   ]
  },
  {
   "cell_type": "code",
   "execution_count": null,
   "metadata": {},
   "outputs": [],
   "source": [
    "# only keep assets that are ever top 200 by market cap (we filter out the small\n",
    "# ones in the backtest anyway)\n",
    "\n",
    "tradeable_assets = []\n",
    "\n",
    "for date in prices_full.index:\n",
    "    top_assets = market_cap.loc[date].nlargest(200)\n",
    "    tradeable_assets.extend(top_assets.index)\n",
    "\n",
    "tradeable_assets = list(set(tradeable_assets))\n",
    "\n",
    "prices_full = prices_full[tradeable_assets]\n",
    "market_cap = market_cap[tradeable_assets]\n",
    "spreads = spreads[tradeable_assets]\n",
    "rolling_spreads = rolling_spreads[tradeable_assets]\n",
    "rolling_spreads_USD = rolling_spreads * prices_full"
   ]
  },
  {
   "cell_type": "markdown",
   "metadata": {},
   "source": [
    "### Compute covariances"
   ]
  },
  {
   "cell_type": "code",
   "execution_count": null,
   "metadata": {},
   "outputs": [],
   "source": [
    "prices_centered = prices_full - prices_full.rolling(21).mean()\n",
    "\n",
    "covariance_iterator = iterated_ewma(\n",
    "    prices_centered,\n",
    "    125,\n",
    "    250,\n",
    "    min_periods_vola=100,\n",
    "    min_periods_cov=100,\n",
    "    mean=False,\n",
    ")\n",
    "\n",
    "covariances = {}\n",
    "for covariance in covariance_iterator:\n",
    "    covariances[covariance.time] = covariance.covariance\n",
    "\n",
    "covariances = ewma(covariances, halflife=250)\n"
   ]
  },
  {
   "cell_type": "code",
   "execution_count": null,
   "metadata": {},
   "outputs": [],
   "source": [
    "shorting_cost = 0.5 / 100 / 252\n",
    "\n",
    "(\n",
    "    results,\n",
    "    manager,\n",
    "    portfolio,\n",
    "    holdings,\n",
    "    all_weights,\n",
    "    all_stat_arb_quantities,\n",
    "    values,\n",
    "    cashs,\n",
    "    interest_and_fees,\n",
    "    trading_costs,\n",
    ") = run_portfolio_backtest(\n",
    "    prices_full,\n",
    "    market_cap,\n",
    "    rolling_spreads_USD,\n",
    "    covariances,\n",
    "    P_max=100,\n",
    "    moving_midpoint=True,\n",
    "    midpoint_memory=21,\n",
    "    T_max=500,\n",
    "    shorting_cost=shorting_cost,\n",
    ")"
   ]
  },
  {
   "cell_type": "code",
   "execution_count": null,
   "metadata": {},
   "outputs": [],
   "source": [
    "# shorting_cost = 0.5 / 100 / 252\n",
    "\n",
    "# (\n",
    "#     results,\n",
    "#     manager,\n",
    "#     portfolio,\n",
    "#     holdings,\n",
    "#     all_weights,\n",
    "#     all_stat_arb_quantities,\n",
    "#     values,\n",
    "#     cashs,\n",
    "#     interest_and_fees,\n",
    "#     trading_costs,\n",
    "# ) = run_portfolio_backtest_from_manager(\n",
    "#     manager,\n",
    "#     prices_full,\n",
    "#     rolling_spreads_USD, # spreads in USD\n",
    "#     covariances,\n",
    "#     shorting_cost=shorting_cost,\n",
    "# )"
   ]
  },
  {
   "cell_type": "markdown",
   "metadata": {},
   "source": [
    "### Metrics"
   ]
  },
  {
   "cell_type": "code",
   "execution_count": null,
   "metadata": {},
   "outputs": [],
   "source": [
    "# before fees and transaction costs (still takes into account)\n",
    "# Note: not completely ignoring fees and transaction costs, since\n",
    "# the \"correct\" cash account is used when solving the optimization problem\n",
    "\n",
    "nav_bf = (portfolio.nav).dropna()\n",
    "rets = nav_bf.pct_change().dropna()\n",
    "\n",
    "mean = rets.mean() * 252\n",
    "std = rets.std() * np.sqrt(252)\n",
    "sharpe = mean / std\n",
    "\n",
    "print(f\"Return: {mean:.2%}\")\n",
    "print(f\"Risk: {std:.2%}\")\n",
    "print(f\"Sharpe: {sharpe:.2f}\")\n",
    "print(f\"Drawdown: {compute_drawdowns(nav_bf).max():.2%}\")"
   ]
  },
  {
   "cell_type": "code",
   "execution_count": null,
   "metadata": {},
   "outputs": [],
   "source": [
    "# after fees and transaction costs\n",
    "\n",
    "nav_af = portfolio.nav.dropna() + (interest_and_fees - trading_costs).cumsum()\n",
    "rets = nav_af.pct_change().dropna()\n",
    "\n",
    "mean = rets.mean() * 252\n",
    "std = rets.std() * np.sqrt(252)\n",
    "sharpe = mean / std\n",
    "\n",
    "print(f\"Return: {mean:.2%}\")\n",
    "print(f\"Risk: {std:.2%}\")\n",
    "print(f\"Sharpe: {sharpe:.2f}\")\n",
    "print(f\"Drawdown: {compute_drawdowns(nav_af).max():.2%}\")"
   ]
  },
  {
   "cell_type": "code",
   "execution_count": null,
   "metadata": {},
   "outputs": [],
   "source": [
    "weights = portfolio.weights.dropna()"
   ]
  },
  {
   "cell_type": "code",
   "execution_count": null,
   "metadata": {},
   "outputs": [],
   "source": [
    "plt.figure()\n",
    "\n",
    "\n",
    "turnover = 0.5 * weights.diff().abs().sum(axis=1).resample(\"YE\").mean() * 250\n",
    "plt.plot(turnover, marker=\"o\")\n",
    "plt.ylabel(\"Turnover\")\n",
    "print(f\"Mean turnover: {turnover.mean():.0f}\")\n",
    "plt.gcf().autofmt_xdate()\n",
    "plt.tight_layout();\n",
    "\n",
    "\n"
   ]
  },
  {
   "cell_type": "code",
   "execution_count": null,
   "metadata": {},
   "outputs": [],
   "source": [
    "plt.figure(figsize=(12, 6))\n",
    "nav_bf.plot(label=\"Before fees and costs\")\n",
    "nav_af.plot(label=\"After fees and costs\")\n",
    "plt.yscale(\"log\")\n",
    "\n",
    "y_formatter = ScalarFormatter(useOffset=False, useMathText=True)\n",
    "plt.gca().yaxis.set_major_formatter(y_formatter)\n",
    "plt.gca().yaxis.set_major_locator(MaxNLocator(integer=True))\n",
    "plt.legend();"
   ]
  },
  {
   "cell_type": "markdown",
   "metadata": {},
   "source": [
    "### Sensitivity analysis"
   ]
  },
  {
   "cell_type": "code",
   "execution_count": null,
   "metadata": {},
   "outputs": [],
   "source": [
    "def spread_sensitivity_analysis(portfolio, interest_and_fees, all_spreads):\n",
    "    sharpes = []\n",
    "    all_ones = portfolio.prices * 0 + 1\n",
    "\n",
    "    trades = portfolio.trades_currency\n",
    "\n",
    "    for s_temp in all_spreads:\n",
    "        spreads_temp = all_ones * s_temp * (0.01) ** 2\n",
    "\n",
    "        trading_costs = compute_trading_costs(trades, spreads_temp)\n",
    "        nav = portfolio.nav + interest_and_fees.cumsum() - trading_costs.cumsum()\n",
    "\n",
    "        mean = (nav + interest_and_fees.cumsum()).pct_change().mean() * 252\n",
    "        std = (nav + interest_and_fees.cumsum()).pct_change().std() * np.sqrt(252)\n",
    "        sharpe = mean / std\n",
    "        sharpes.append(sharpe)\n",
    "\n",
    "    return sharpes\n",
    "\n",
    "\n",
    "all_spreads = [0, 1, 2.5, 5, 7.5, 10]\n",
    "sharpes = spread_sensitivity_analysis(portfolio, interest_and_fees, all_spreads)\n",
    "\n",
    "plt.figure(figsize=(12, 6))\n",
    "plt.plot(all_spreads, sharpes, marker=\"o\")\n",
    "plt.xlabel(\"Spread (bps)\")\n",
    "plt.ylabel(\"Sharpe ratio\");"
   ]
  },
  {
   "cell_type": "markdown",
   "metadata": {},
   "source": [
    "### Compare to market"
   ]
  },
  {
   "cell_type": "code",
   "execution_count": null,
   "metadata": {},
   "outputs": [],
   "source": [
    "sp500 = (\n",
    "    yf.Ticker(\"^GSPC\")\n",
    "    .history(start=\"2010-01-01\", end=\"2022-12-30\")[\"Close\"]\n",
    "    .pct_change()\n",
    "    .dropna()\n",
    ")\n",
    "\n",
    "# remove timexone from sp500\n",
    "sp500.index = sp500.index.tz_localize(None)"
   ]
  },
  {
   "cell_type": "code",
   "execution_count": null,
   "metadata": {},
   "outputs": [],
   "source": [
    "merged_index = rets.index.intersection(sp500.index)\n",
    "\n",
    "sp500 = sp500[merged_index]\n",
    "rets = rets[merged_index]\n",
    "\n",
    "mean_sp500 = sp500.mean() * 252\n",
    "std_sp500 = sp500.std() * np.sqrt(252)\n",
    "sharpe_sp500 = mean_sp500 / std_sp500\n",
    "\n",
    "print(f\"Market return: {mean_sp500:.2%}\")\n",
    "print(f\"Market risk: {std_sp500:.2%}\")\n",
    "print(f\"Market Sharpe: {sharpe_sp500:.2f}\")\n",
    "\n",
    "print(f\"\\nStat-arb correlation with market: {np.corrcoef(sp500, rets)[0, 1]:.1%}\")"
   ]
  },
  {
   "cell_type": "code",
   "execution_count": null,
   "metadata": {},
   "outputs": [],
   "source": [
    "# regress rets on sp500\n",
    "from sklearn.linear_model import LinearRegression\n",
    "\n",
    "active_returns = rets - sp500\n",
    "mean_active = active_returns.mean() * 252\n",
    "std_active = active_returns.std() * np.sqrt(252)\n",
    "active_risk = std_active\n",
    "print(f\"Active return: {mean_active:.2%}\")\n",
    "print(f\"Active risk: {std_active:.2%}\")\n",
    "\n",
    "reg = LinearRegression(fit_intercept=False)\n",
    "reg.fit(sp500.values.reshape(-1, 1), rets.values.reshape(-1, 1))\n",
    "residual = rets - reg.predict(sp500.values.reshape(-1, 1)).flatten()\n",
    "\n",
    "alpha = residual.mean() * 252\n",
    "residual_risk = residual.std() * np.sqrt(252)\n",
    "print(f\"Alpha (residual return): {alpha:.2%}\")\n",
    "print(f\"Residual risk: {residual_risk:.2%}\")\n",
    "print(f\"Information ratio: {alpha / residual_risk:.2f}\")\n",
    "\n",
    "market_beta = reg.coef_[0, 0]\n",
    "print(f\"Market beta: {market_beta:.3f}\")"
   ]
  },
  {
   "cell_type": "code",
   "execution_count": null,
   "metadata": {},
   "outputs": [],
   "source": [
    "### annualized alphas and betas\n",
    "betas = pd.Series(index=rets.index.year.unique(), dtype=float)\n",
    "alphas = pd.Series(index=rets.index.year.unique(), dtype=float)\n",
    "residual_risks = pd.Series(index=rets.index.year.unique(), dtype=float)\n",
    "\n",
    "years = rets.index.year.unique()\n",
    "for year in years:\n",
    "    reg = LinearRegression(fit_intercept=False)\n",
    "    reg.fit(sp500.loc[sp500.index.year == year].values.reshape(-1, 1), rets.loc[rets.index.year == year].values.reshape(-1, 1))\n",
    "    residual = rets.loc[rets.index.year == year] - reg.predict(sp500.loc[sp500.index.year == year].values.reshape(-1, 1)).flatten()\n",
    "\n",
    "    alphas[year] = residual.mean() * 252\n",
    "    betas[year] = reg.coef_[0, 0]\n",
    "    residual_risks[year] = residual.std() * np.sqrt(252)"
   ]
  },
  {
   "cell_type": "code",
   "execution_count": null,
   "metadata": {},
   "outputs": [],
   "source": [
    "plt.figure(figsize=(10, 6))\n",
    "alphas.plot(marker=\"o\")\n",
    "plt.ylabel(\"Residual return (alpha)\")\n",
    "plt.gcf().autofmt_xdate()\n",
    "plt.tight_layout()\n",
    "\n",
    "plt.figure(figsize=(10, 6))\n",
    "residual_risks.plot(marker=\"o\")\n",
    "plt.ylabel(\"Residual risk\")\n",
    "plt.gcf().autofmt_xdate()\n",
    "plt.tight_layout()\n",
    "\n",
    "plt.figure(figsize=(10, 6))\n",
    "betas.plot(marker=\"o\")\n",
    "plt.ylabel(\"Market beta\")\n",
    "plt.gcf().autofmt_xdate()\n",
    "plt.tight_layout()\n"
   ]
  },
  {
   "cell_type": "code",
   "execution_count": null,
   "metadata": {},
   "outputs": [],
   "source": [
    "rets = nav_af.pct_change().dropna()\n",
    "\n",
    "sp500_std = sp500.std() * np.sqrt(252)\n",
    "stat_arb_std = rets.std() * np.sqrt(252)\n",
    "\n",
    "factor = stat_arb_std / sp500_std\n",
    "\n",
    "sp500_scaled = sp500 * factor\n",
    "\n",
    "plt.figure(figsize=(10, 6))\n",
    "(1+rets).cumprod().plot(label=\"Portfolio of MBSAs\")\n",
    "(1+sp500_scaled).cumprod().plot(label=\"Market (scaled to same volatility as portfolio of MBSAs)\")\n",
    "plt.legend()\n",
    "plt.yscale(\"log\")\n",
    "plt.ylabel(\"NAV\")\n",
    "\n",
    "y_formatter = ScalarFormatter(useOffset=False, useMathText=True)\n",
    "plt.gca().yaxis.set_major_formatter(y_formatter)\n",
    "plt.gca().yaxis.set_major_locator(MaxNLocator(integer=True))\n",
    "plt.tight_layout();\n"
   ]
  },
  {
   "cell_type": "code",
   "execution_count": null,
   "metadata": {},
   "outputs": [],
   "source": [
    "stat_arb_and_sp500 = pd.concat([rets, sp500], axis=1).dropna(axis=0)\n",
    "\n",
    "corrs = stat_arb_and_sp500.ewm(halflife=250, min_periods=250).corr()\n",
    "\n",
    "times = corrs.index.get_level_values(0).unique()\n",
    "ewma_correlations = pd.Series(index=times)\n",
    "\n",
    "for time in times:\n",
    "    ewma_correlations[time] = corrs.loc[time].iloc[0, 1]\n",
    "\n",
    "\n",
    "def to_percent(y, position):\n",
    "    return \"{:.0f}%\".format(100 * y)\n",
    "\n",
    "plt.figure(figsize=(10, 6))\n",
    "ewma_correlations.plot()\n",
    "plt.ylabel(\"EWMA correlation\")\n",
    "formatter = FuncFormatter(to_percent)\n",
    "plt.gca().yaxis.set_major_formatter(formatter)\n",
    "plt.tight_layout();"
   ]
  },
  {
   "cell_type": "markdown",
   "metadata": {},
   "source": [
    "### Annual metrics"
   ]
  },
  {
   "cell_type": "code",
   "execution_count": null,
   "metadata": {},
   "outputs": [],
   "source": [
    "plt.figure(figsize=(10, 6))\n",
    "yearly_returns = rets.resample(\"YE\").mean() * 252\n",
    "yearly_returns_sp500 = sp500.resample(\"YE\").mean() * 252\n",
    "plt.plot(yearly_returns, marker=\"o\")\n",
    "plt.plot(yearly_returns_sp500, marker=\"o\")\n",
    "plt.ylabel(\"Return\")\n",
    "plt.gcf().autofmt_xdate()\n",
    "plt.legend([\"Portfolio of MBSAs\", \"Market\"])\n",
    "plt.tight_layout()\n",
    "\n",
    "plt.figure(figsize=(10, 6))\n",
    "yearly_volatility = rets.resample(\"YE\").std() * np.sqrt(252)\n",
    "yearly_volatility_sp500 = sp500.resample(\"YE\").std() * np.sqrt(252)\n",
    "plt.plot(yearly_volatility, marker=\"o\")\n",
    "plt.plot(yearly_volatility_sp500, marker=\"o\")\n",
    "plt.ylabel(\"Volatility\")\n",
    "plt.gcf().autofmt_xdate()\n",
    "\n",
    "plt.tight_layout()\n",
    "\n",
    "plt.figure(figsize=(10, 6))\n",
    "yearly_sharpe = yearly_returns / yearly_volatility\n",
    "yearly_sharpe_sp500 = yearly_returns_sp500 / yearly_volatility_sp500\n",
    "plt.plot(yearly_sharpe, marker=\"o\")\n",
    "plt.plot(yearly_sharpe_sp500, marker=\"o\")\n",
    "plt.ylabel(\"Sharpe ratio\")\n",
    "plt.gcf().autofmt_xdate()\n",
    "plt.tight_layout();"
   ]
  },
  {
   "cell_type": "markdown",
   "metadata": {},
   "source": [
    "# Additional experiments for fun"
   ]
  },
  {
   "cell_type": "markdown",
   "metadata": {},
   "source": [
    "### Portfolio 90% stat-arb, 10% market"
   ]
  },
  {
   "cell_type": "code",
   "execution_count": null,
   "metadata": {},
   "outputs": [],
   "source": [
    "returns_mixed = 0.9 * rets + 0.1 * sp500\n",
    "\n",
    "mean_mixed = returns_mixed.mean() * 252\n",
    "std_mixed = returns_mixed.std() * np.sqrt(252)\n",
    "sharpe_mixed = mean_mixed / std_mixed\n",
    "\n",
    "print(f\"Return: {mean_mixed:.2%}\")\n",
    "print(f\"Risk: {std_mixed:.2%}\")\n",
    "print(f\"Sharpe: {sharpe_mixed:.2f}\")"
   ]
  },
  {
   "cell_type": "code",
   "execution_count": null,
   "metadata": {},
   "outputs": [],
   "source": [
    "### market mix based on rolling correlation\n",
    "\n",
    "market_mix = ((1-ewma_correlations.dropna())/10)\n",
    "arb_mix = 1 - market_mix\n",
    "\n",
    "returns_mixed = arb_mix * rets + market_mix * sp500 \n",
    "# where returns_mixed is nan, we use rets\n",
    "returns_mixed = returns_mixed.fillna(sp500)\n",
    "\n",
    "mean_mixed = returns_mixed.mean() * 252\n",
    "std_mixed = returns_mixed.std() * np.sqrt(252)\n",
    "sharpe_mixed = mean_mixed / std_mixed\n",
    "\n",
    "print(f\"Return: {mean_mixed:.2%}\")\n",
    "print(f\"Risk: {std_mixed:.2%}\")\n",
    "print(f\"Sharpe: {sharpe_mixed:.2f}\")"
   ]
  },
  {
   "cell_type": "markdown",
   "metadata": {},
   "source": [
    "### Mix with bitcoin"
   ]
  },
  {
   "cell_type": "code",
   "execution_count": null,
   "metadata": {},
   "outputs": [],
   "source": [
    "# import refinitiv.data as rd\n",
    "# from refinitiv.data.content import historical_pricing\n",
    "# from refinitiv.data.content.historical_pricing import Intervals\n",
    "# from refinitiv.data.content.historical_pricing import Adjustments"
   ]
  },
  {
   "cell_type": "code",
   "execution_count": null,
   "metadata": {},
   "outputs": [],
   "source": [
    "# start_date = \"2010-01-01\"\n",
    "# end_date = \"2024-12-31\"\n",
    "\n",
    "# rd.open_session()\n",
    "# response_BTC = historical_pricing.summaries.Definition(\n",
    "#             \"BTC=\"+\"CCCL\",\n",
    "#             interval=Intervals.DAILY,\n",
    "#             start=start_date,\n",
    "#             end=end_date,\n",
    "#             adjustments = [\n",
    "#                 Adjustments.EXCHANGE_CORRECTION,\n",
    "#                 Adjustments.MANUAL_CORRECTION\n",
    "#             ],\n",
    "#         ).get_data()\n",
    "\n",
    "# price_BTC = response_BTC.data.df.TRDPRC_1.loc[rets.index]\n",
    "# returns_BTC = price_BTC.pct_change().fillna(0)\n",
    "# rd.close_session()"
   ]
  },
  {
   "cell_type": "code",
   "execution_count": null,
   "metadata": {},
   "outputs": [],
   "source": [
    "# mean_BTC = returns_BTC.mean() * 252\n",
    "# std_BTC = returns_BTC.std() * np.sqrt(252)\n",
    "# sharpe_BTC = mean_BTC / std_BTC\n",
    "\n",
    "# print(f\"BTC return: {mean_BTC:.2%}\")\n",
    "# print(f\"BTC risk: {std_BTC:.2%}\")\n",
    "# print(f\"BTC Sharpe: {sharpe_BTC:.2f}\")\n",
    "\n",
    "# print(f\"\\nStat-arb correlation with BTC: {np.corrcoef(returns_BTC, rets)[0, 1]:.0%}\")"
   ]
  },
  {
   "cell_type": "code",
   "execution_count": null,
   "metadata": {},
   "outputs": [],
   "source": [
    "# returns_mixed = 0.9 * rets + 0.05 * returns_BTC + 0.05 * sp500\n",
    "\n",
    "# mean_mixed = returns_mixed.mean() * 252\n",
    "# std_mixed = returns_mixed.std() * np.sqrt(252)\n",
    "# sharpe_mixed = mean_mixed / std_mixed\n",
    "\n",
    "# print(f\"Return: {mean_mixed:.2%}\")\n",
    "# print(f\"Risk: {std_mixed:.2%}\")\n",
    "# print(f\"Sharpe: {sharpe_mixed:.2f}\")"
   ]
  },
  {
   "cell_type": "code",
   "execution_count": null,
   "metadata": {},
   "outputs": [],
   "source": [
    "# (1+returns_mixed).cumprod().plot(label=\"Mixed strategy\")\n",
    "# plt.yscale(\"log\");"
   ]
  }
 ],
 "metadata": {
  "kernelspec": {
   "display_name": "Python 3 (ipykernel)",
   "language": "python",
   "name": "python3"
  },
  "language_info": {
   "codemirror_mode": {
    "name": "ipython",
    "version": 3
   },
   "file_extension": ".py",
   "mimetype": "text/x-python",
   "name": "python",
   "nbconvert_exporter": "python",
   "pygments_lexer": "ipython3",
   "version": "3.12.7"
  }
 },
 "nbformat": 4,
 "nbformat_minor": 4
}
